version https://git-lfs.github.com/spec/v1
oid sha256:b245c172b861982f76cb86d36fd3763f99ef925f949bacb1a222d66d2d7b5408
size 53760
