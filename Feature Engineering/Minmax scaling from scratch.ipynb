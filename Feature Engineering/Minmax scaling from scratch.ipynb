version https://git-lfs.github.com/spec/v1
oid sha256:33d29ef1bb042bd7d806b84fd8591ab9c032af909fc3ca3b01dab0b09652a49f
size 108161
