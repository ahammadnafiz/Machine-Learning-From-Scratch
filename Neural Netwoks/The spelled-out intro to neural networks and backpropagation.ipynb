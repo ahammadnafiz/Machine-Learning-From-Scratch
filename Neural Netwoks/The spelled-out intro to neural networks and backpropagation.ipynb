version https://git-lfs.github.com/spec/v1
oid sha256:d0a4384ef9e22ef5433f1708f1e929de164bfa93ef180cfdd3fc50ffc1363945
size 97004
