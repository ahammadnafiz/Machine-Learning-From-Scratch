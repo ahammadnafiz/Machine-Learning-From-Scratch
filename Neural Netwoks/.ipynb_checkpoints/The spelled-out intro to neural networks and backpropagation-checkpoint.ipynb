version https://git-lfs.github.com/spec/v1
oid sha256:03ce177c4a9ce685ac5654dbfd8f26b6650e6b860ee90868cd450027f1343017
size 97108
