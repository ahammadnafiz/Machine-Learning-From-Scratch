version https://git-lfs.github.com/spec/v1
oid sha256:8fe14ab24ca3a54d886ebeba6db30dd4baaa0d32f43e98666570c9ac570a3a17
size 469038
